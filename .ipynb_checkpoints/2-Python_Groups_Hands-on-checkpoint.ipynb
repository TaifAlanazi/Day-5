{
 "cells": [
  {
   "cell_type": "markdown",
   "metadata": {
    "id": "kZXiW0-J0-2x"
   },
   "source": [
    "# Python_Groups_Hands-on\n"
   ]
  },
  {
   "cell_type": "markdown",
   "metadata": {
    "id": "I05A6_S80-2y"
   },
   "source": [
    "## Project: Library Management System\n",
    "### Description:\n",
    "- Develop a basic Library Management System (LMS) that allows users to manage book records, including adding, updating, deleting, and displaying book information. The system should also provide basic statistical analysis.\n",
    "\n",
    "### System requirements:\n",
    "\n",
    "#### Data Structure Design:\n",
    "\n",
    "  - Define data structures using lists, tuples, dictionaries, and sets to store book information (e.g., book ID, title, author, year, genres).\n",
    "\n",
    "#### Basic Operations:\n",
    "\n",
    "- Implement functions to add, update, delete, and display book records.\n",
    "- Ensure proper type conversion and validation of inputs.\n",
    "\n",
    "#### Statistical Analysis:\n",
    "\n",
    "- Write functions to calculate and display the total number of books, the average publication year, and the most common genre.\n",
    "- Use list comprehensions and built-in functions (sort, len, zip, range) for calculations.\n",
    "\n",
    "#### Advanced Features:\n",
    "\n",
    "- Implement search functionality to find books by title or author using lambda functions.\n",
    "- Provide sorting options for book records based on different criteria (e.g., title, year).\n",
    "\n",
    "\n",
    "#### Exception Handling:\n",
    "\n",
    "- Handle potential errors (e.g., invalid input) using try-except blocks."
   ]
  },
  {
   "cell_type": "markdown",
   "metadata": {
    "id": "rXuH9y0_D76o"
   },
   "source": [
    "#### Q1: Using the following table, create a function to add these books to your library:\n",
    "\n",
    "\n",
    "\n",
    "| Book ID | Title                            | Author               | Year | Genres                              |\n",
    "|---------|----------------------------------|----------------------|------|-------------------------------------|\n",
    "| 1       | Harry Potter and the Sorcerer's Stone | J.K. Rowling         | 1997 | Fantasy, Young Adult                |\n",
    "| 2       | To Kill a Mockingbird             | Harper Lee           | 1960 | Fiction, Classics                   |\n",
    "| 3       | The Great Gatsby                  | F. Scott Fitzgerald  | 1925 | Fiction, Classics                   |\n",
    "| 4       | 1984                              | George Orwell        | 1949 | Fiction, Dystopian                  |\n",
    "| 5       | The Catcher in the Rye            | J.D. Salinger        | 1951 | Fiction, Classics                   |\n",
    "| 6       | Pride and Prejudice               | Jane Austen          | 1813 | Fiction, Romance, Classics          |\n",
    "| 7       | The Hobbit                        | J.R.R. Tolkien       | 1937 | Fantasy, Adventure                  |\n",
    "| 8       | The Hunger Games                  | Suzanne Collins      | 2008 | Science Fiction, Dystopian, Young Adult |\n",
    "| 9       | The Da Vinci Code                 | Dan Brown            | 2003 | Mystery, Thriller                   |\n",
    "| 10      | The Chronicles of Narnia          | C.S. Lewis           | 1950 | Fantasy, Children's Literature      |\n",
    "| 11      | Gone with the Wind                | Margaret Mitchell    | 1936 | Historical Fiction, Romance         |\n",
    "| 12      | Sapiens: A Brief History of Humankind | Yuval Noah Harari   | 2011 | Nonfiction, History, Science        |\n",
    "| 13      | The Road                          | Cormac McCarthy      | 2006 | Fiction, Post-Apocalyptic           |\n",
    "| 14      | The Girl with the Dragon Tattoo   | Stieg Larsson        | 2005 | Mystery, Thriller                   |\n",
    "| 15      | The Alchemist                     | Paulo Coelho         | 1988 | Fiction, Inspirational              |\n"
   ]
  },
  {
   "cell_type": "code",
   "execution_count": 39,
   "metadata": {
    "id": "BzV_B_g20-2z"
   },
   "outputs": [
    {
     "name": "stdout",
     "output_type": "stream",
     "text": [
      "added book: Harry Potter and the Sorcerer's Stone by: J.K. Rowling\n",
      "added book: To Kill a Mockingbird by: Harper Lee\n",
      "added book: The Great Gatsby by: F. Scott Fitzgerald\n",
      "added book: 1984 by: George Orwell\n",
      "added book: The Catcher in the Rye by: J.D. Salinger\n",
      "added book: Pride and Prejudice by: Jane Austen\n",
      "added book: The Hobbit by: J.R.R. Tolkien\n",
      "added book: The Hunger Games by: Suzanne Collins\n",
      "added book: The Da Vinci Code by: Dan Brown\n",
      "added book: The Chronicles of Narnia by: C.S. Lewis\n",
      "added book: Gone with the Wind by: Margaret Mitchell\n",
      "added book: Sapiens: A Brief History of Humankind by: Yuval Noah Harari\n",
      "added book: The Road by: Cormac McCarthy\n",
      "added book: The Girl with the Dragon Tattoo by: Stieg Larsson\n",
      "added book: The Alchemist by: Paulo Coelho\n",
      "None\n",
      "[{'Book_ID': 1, 'Title': \"Harry Potter and the Sorcerer's Stone\", 'Author': 'J.K. Rowling', 'Year': 1997, 'Genres': 'Fantasy, Young Adult'}, {'Book_ID': 2, 'Title': 'To Kill a Mockingbird', 'Author': 'Harper Lee', 'Year': 1960, 'Genres': 'Fiction, Classics'}, {'Book_ID': 3, 'Title': 'The Great Gatsby', 'Author': 'F. Scott Fitzgerald', 'Year': 1925, 'Genres': 'Fiction, Classics'}, {'Book_ID': 4, 'Title': '1984', 'Author': 'George Orwell', 'Year': 1949, 'Genres': 'Fiction, Dystopian'}, {'Book_ID': 5, 'Title': 'The Catcher in the Rye', 'Author': 'J.D. Salinger', 'Year': 1951, 'Genres': 'Fiction, Classics'}, {'Book_ID': 6, 'Title': 'Pride and Prejudice', 'Author': 'Jane Austen', 'Year': 1813, 'Genres': 'Fiction, Romance, Classics'}, {'Book_ID': 7, 'Title': 'The Hobbit', 'Author': 'J.R.R. Tolkien', 'Year': 1937, 'Genres': 'Fantasy, Adventure'}, {'Book_ID': 8, 'Title': 'The Hunger Games', 'Author': 'Suzanne Collins', 'Year': 2008, 'Genres': 'Science Fiction, Dystopian Young Adult'}, {'Book_ID': 9, 'Title': 'The Da Vinci Code', 'Author': 'Dan Brown', 'Year': 2003, 'Genres': 'Mystery, Thriller'}, {'Book_ID': 10, 'Title': 'The Chronicles of Narnia', 'Author': 'C.S. Lewis', 'Year': 1950, 'Genres': \"Fantasy, Children's Literature\"}, {'Book_ID': 11, 'Title': 'Gone with the Wind', 'Author': 'Margaret Mitchell', 'Year': 1936, 'Genres': 'Historical Fiction, Romance'}, {'Book_ID': 12, 'Title': 'Sapiens: A Brief History of Humankind', 'Author': 'Yuval Noah Harari', 'Year': 2011, 'Genres': 'Nonfiction, History,Science'}, {'Book_ID': 13, 'Title': 'The Road', 'Author': 'Cormac McCarthy', 'Year': 2006, 'Genres': 'Fiction, Post-Apocalyptic'}, {'Book_ID': 14, 'Title': 'The Girl with the Dragon Tattoo', 'Author': 'Stieg Larsson', 'Year': 2005, 'Genres': 'Mystery, Thriller'}, {'Book_ID': 15, 'Title': 'The Alchemist', 'Author': 'Paulo Coelho', 'Year': 1988, 'Genres': 'Fiction, Inspirational'}]\n"
     ]
    }
   ],
   "source": [
    "# write your code here ^_^\n",
    "library= []\n",
    "def add_books(books):\n",
    "    for book in books:\n",
    "        library.append(book)\n",
    "        print(\"added book: \"+ book[\"Title\"]+ \" by: \" + book[\"Author\"])\n",
    "\n",
    "library_books= [{\"Book_ID\":1 , \"Title\": \"Harry Potter and the Sorcerer's Stone\" , \"Author\": \"J.K. Rowling\" , \"Year\": 1997 , \"Genres\":\"Fantasy, Young Adult\"}, \n",
    "               {\"Book_ID\":2, \"Title\": \"To Kill a Mockingbird\" , \"Author\": \"Harper Lee\", \"Year\":1960  , \"Genres\": \"Fiction, Classics\"}, \n",
    "               {\"Book_ID\":3, \"Title\": \"The Great Gatsby\" , \"Author\":\"F. Scott Fitzgerald\" , \"Year\":1925  , \"Genres\": \"Fiction, Classics\"},\n",
    "               {\"Book_ID\":4 , \"Title\": \"1984\" , \"Author\": \"George Orwell\" , \"Year\":1949  , \"Genres\": \"Fiction, Dystopian\"},\n",
    "               {\"Book_ID\":5, \"Title\": \"The Catcher in the Rye\", \"Author\": \"J.D. Salinger\", \"Year\": 1951, \"Genres\": \"Fiction, Classics\"},\n",
    "               {\"Book_ID\":6, \"Title\": \"Pride and Prejudice\", \"Author\": \"Jane Austen\", \"Year\": 1813, \"Genres\": \"Fiction, Romance, Classics\"},\n",
    "               {\"Book_ID\":7, \"Title\": \"The Hobbit\", \"Author\": \"J.R.R. Tolkien\", \"Year\": 1937, \"Genres\": \"Fantasy, Adventure\"},\n",
    "               {\"Book_ID\":8, \"Title\": \"The Hunger Games\", \"Author\": \"Suzanne Collins\", \"Year\": 2008, \"Genres\": \"Science Fiction, Dystopian Young Adult\"},\n",
    "               {\"Book_ID\":9, \"Title\": \"The Da Vinci Code\", \"Author\": \"Dan Brown\", \"Year\": 2003, \"Genres\": \"Mystery, Thriller\"},\n",
    "               {\"Book_ID\":10, \"Title\": \"The Chronicles of Narnia\", \"Author\": \"C.S. Lewis\", \"Year\": 1950, \"Genres\": \"Fantasy, Children's Literature\"},\n",
    "               {\"Book_ID\":11, \"Title\": \"Gone with the Wind\", \"Author\": \"Margaret Mitchell\", \"Year\": 1936, \"Genres\": \"Historical Fiction, Romance\"},\n",
    "               {\"Book_ID\":12, \"Title\": \"Sapiens: A Brief History of Humankind\", \"Author\": \"Yuval Noah Harari\", \"Year\": 2011, \"Genres\":\"Nonfiction, History,Science\"},\n",
    "               {\"Book_ID\":13, \"Title\": \"The Road\", \"Author\": \"Cormac McCarthy\", \"Year\": 2006, \"Genres\": \"Fiction, Post-Apocalyptic\"},\n",
    "               {\"Book_ID\":14, \"Title\": \"The Girl with the Dragon Tattoo\", \"Author\": \"Stieg Larsson\", \"Year\": 2005, \"Genres\": \"Mystery, Thriller\"},\n",
    "               {\"Book_ID\":15, \"Title\": \"The Alchemist\", \"Author\": \"Paulo Coelho\", \"Year\": 1988, \"Genres\": \"Fiction, Inspirational\"}]\n",
    "\n",
    "books_in= add_books(library_books)\n",
    "print(books_in)\n",
    "print(library)\n",
    "            \n",
    "    \n",
    "    \n",
    "    "
   ]
  },
  {
   "cell_type": "markdown",
   "metadata": {
    "id": "kR5bvgOsF3oJ"
   },
   "source": [
    "#### Q2: Create a function that updates books exsisted in your library and test it.\n",
    "- **Note**: If the user entered wrong book ID it should print \"Book with ID 'num' does not exist."
   ]
  },
  {
   "cell_type": "code",
   "execution_count": 57,
   "metadata": {
    "id": "U60cFkbUUYmj"
   },
   "outputs": [
    {
     "name": "stdout",
     "output_type": "stream",
     "text": [
      "updated book, ID: 1\n",
      "Book with ID 20 does not exist.\n",
      "\n",
      "[{'Book_ID': 1, 'Title': 'The Mstery Of The Blue Train', 'Author': 'Agatha Christie', 'Year': 1928, 'Genres': 'Mystery'}, {'Book_ID': 2, 'Title': 'Mockingbird', 'Author': 'Harper Lee', 'Year': 1960, 'Genres': 'Fiction, Classics'}, {'Book_ID': 3, 'Title': 'The Great Gatsby', 'Author': 'F. Scott Fitzgerald', 'Year': 1925, 'Genres': 'Fiction, Classics'}, {'Book_ID': 4, 'Title': '1984', 'Author': 'George Orwell', 'Year': 1949, 'Genres': 'Fiction, Dystopian'}, {'Book_ID': 5, 'Title': 'The Catcher in the Rye', 'Author': 'J.D. Salinger', 'Year': 1951, 'Genres': 'Fiction, Classics'}, {'Book_ID': 6, 'Title': 'Pride and Prejudice', 'Author': 'Jane Austen', 'Year': 1813, 'Genres': 'Fiction, Romance, Classics'}, {'Book_ID': 7, 'Title': 'The Hobbit', 'Author': 'J.R.R. Tolkien', 'Year': 1937, 'Genres': 'Fantasy, Adventure'}, {'Book_ID': 8, 'Title': 'The Hunger Games', 'Author': 'Suzanne Collins', 'Year': 2008, 'Genres': 'Science Fiction, Dystopian Young Adult'}, {'Book_ID': 9, 'Title': 'The Da Vinci Code', 'Author': 'Dan Brown', 'Year': 2003, 'Genres': 'Mystery, Thriller'}, {'Book_ID': 10, 'Title': 'The Chronicles of Narnia', 'Author': 'C.S. Lewis', 'Year': 1950, 'Genres': \"Fantasy, Children's Literature\"}, {'Book_ID': 11, 'Title': 'Gone with the Wind', 'Author': 'Margaret Mitchell', 'Year': 1936, 'Genres': 'Historical Fiction, Romance'}, {'Book_ID': 12, 'Title': 'Sapiens: A Brief History of Humankind', 'Author': 'Yuval Noah Harari', 'Year': 2011, 'Genres': 'Nonfiction, History,Science'}, {'Book_ID': 13, 'Title': 'The Road', 'Author': 'Cormac McCarthy', 'Year': 2006, 'Genres': 'Fiction, Post-Apocalyptic'}, {'Book_ID': 14, 'Title': 'The Girl with the Dragon Tattoo', 'Author': 'Stieg Larsson', 'Year': 2005, 'Genres': 'Mystery, Thriller'}, {'Book_ID': 15, 'Title': 'The Alchemist', 'Author': 'Paulo Coelho', 'Year': 1988, 'Genres': 'Fiction, Inspirational'}]\n"
     ]
    }
   ],
   "source": [
    "# write your code here ^_^\n",
    "def update_books(book_id, updated_infos):\n",
    "    for book in library:\n",
    "        if book[\"Book_ID\"]== book_id:\n",
    "            book.update(updated_infos)\n",
    "            print(\"updated book, ID: \"+ str(book_id))\n",
    "            return \n",
    "        \n",
    "    print (\"Book with ID \"+ str(book_id)+ \" does not exist.\")\n",
    "            \n",
    "update_books(1, {'Title': 'The Mstery Of The Blue Train', 'Author': 'Agatha Christie', 'Year': 1928, 'Genres': 'Mystery'})            \n",
    "update_books(20, {'Title': 'The Mstery Of The Blue Train', 'Author': 'Agatha Christie', 'Year': 1928, 'Genres': 'Mystery'}) \n",
    "print(\"\")\n",
    "print(library)   \n",
    "    \n"
   ]
  },
  {
   "cell_type": "markdown",
   "metadata": {
    "id": "ME3j_m-eLhyH"
   },
   "source": [
    "#### Q3: Create a function to delete books from your library and test it."
   ]
  },
  {
   "cell_type": "code",
   "execution_count": 69,
   "metadata": {
    "id": "JlGIx-gJUadK"
   },
   "outputs": [
    {
     "name": "stdout",
     "output_type": "stream",
     "text": [
      "deleted book, ID: 1\n",
      "Book with ID 25 does not exist.\n",
      "\n",
      "[{'Book_ID': 2, 'Title': 'Mockingbird', 'Author': 'Harper Lee', 'Year': 1960, 'Genres': 'Fiction, Classics'}, {'Book_ID': 3, 'Title': 'The Great Gatsby', 'Author': 'F. Scott Fitzgerald', 'Year': 1925, 'Genres': 'Fiction, Classics'}, {'Book_ID': 4, 'Title': '1984', 'Author': 'George Orwell', 'Year': 1949, 'Genres': 'Fiction, Dystopian'}, {'Book_ID': 5, 'Title': 'The Catcher in the Rye', 'Author': 'J.D. Salinger', 'Year': 1951, 'Genres': 'Fiction, Classics'}, {'Book_ID': 6, 'Title': 'Pride and Prejudice', 'Author': 'Jane Austen', 'Year': 1813, 'Genres': 'Fiction, Romance, Classics'}, {'Book_ID': 7, 'Title': 'The Hobbit', 'Author': 'J.R.R. Tolkien', 'Year': 1937, 'Genres': 'Fantasy, Adventure'}, {'Book_ID': 8, 'Title': 'The Hunger Games', 'Author': 'Suzanne Collins', 'Year': 2008, 'Genres': 'Science Fiction, Dystopian Young Adult'}, {'Book_ID': 9, 'Title': 'The Da Vinci Code', 'Author': 'Dan Brown', 'Year': 2003, 'Genres': 'Mystery, Thriller'}, {'Book_ID': 10, 'Title': 'The Chronicles of Narnia', 'Author': 'C.S. Lewis', 'Year': 1950, 'Genres': \"Fantasy, Children's Literature\"}, {'Book_ID': 11, 'Title': 'Gone with the Wind', 'Author': 'Margaret Mitchell', 'Year': 1936, 'Genres': 'Historical Fiction, Romance'}, {'Book_ID': 12, 'Title': 'Sapiens: A Brief History of Humankind', 'Author': 'Yuval Noah Harari', 'Year': 2011, 'Genres': 'Nonfiction, History,Science'}, {'Book_ID': 13, 'Title': 'The Road', 'Author': 'Cormac McCarthy', 'Year': 2006, 'Genres': 'Fiction, Post-Apocalyptic'}, {'Book_ID': 14, 'Title': 'The Girl with the Dragon Tattoo', 'Author': 'Stieg Larsson', 'Year': 2005, 'Genres': 'Mystery, Thriller'}, {'Book_ID': 15, 'Title': 'The Alchemist', 'Author': 'Paulo Coelho', 'Year': 1988, 'Genres': 'Fiction, Inspirational'}]\n"
     ]
    }
   ],
   "source": [
    "# write your code here ^_^\n",
    "def delete_books(book_id):\n",
    "    for book in library:\n",
    "        for book in library:\n",
    "            if book[\"Book_ID\"]== book_id:\n",
    "                library.remove(book)\n",
    "                print(\"deleted book, ID: \"+ str(book_id))\n",
    "                return \n",
    "        \n",
    "    print (\"Book with ID \"+ str(book_id)+ \" does not exist.\")\n",
    "\n",
    "delete_books(1)\n",
    "delete_books(25)\n",
    "print(\"\")\n",
    "print(library)\n",
    "\n",
    "    "
   ]
  },
  {
   "cell_type": "markdown",
   "metadata": {
    "id": "MIamnChwNgFr"
   },
   "source": [
    "#### Q4: Create a function that displays books information from your library and test it."
   ]
  },
  {
   "cell_type": "code",
   "execution_count": 87,
   "metadata": {
    "id": "xFNIK3YvUbz5"
   },
   "outputs": [
    {
     "name": "stdout",
     "output_type": "stream",
     "text": [
      "  Book ID  Title                                  Author                 Year  Genres\n",
      "---------  -------------------------------------  -------------------  ------  --------------------------------------\n",
      "        2  Mockingbird                            Harper Lee             1960  Fiction, Classics\n",
      "        3  The Great Gatsby                       F. Scott Fitzgerald    1925  Fiction, Classics\n",
      "        4  1984                                   George Orwell          1949  Fiction, Dystopian\n",
      "        5  The Catcher in the Rye                 J.D. Salinger          1951  Fiction, Classics\n",
      "        6  Pride and Prejudice                    Jane Austen            1813  Fiction, Romance, Classics\n",
      "        7  The Hobbit                             J.R.R. Tolkien         1937  Fantasy, Adventure\n",
      "        8  The Hunger Games                       Suzanne Collins        2008  Science Fiction, Dystopian Young Adult\n",
      "        9  The Da Vinci Code                      Dan Brown              2003  Mystery, Thriller\n",
      "       10  The Chronicles of Narnia               C.S. Lewis             1950  Fantasy, Children's Literature\n",
      "       11  Gone with the Wind                     Margaret Mitchell      1936  Historical Fiction, Romance\n",
      "       12  Sapiens: A Brief History of Humankind  Yuval Noah Harari      2011  Nonfiction, History,Science\n",
      "       13  The Road                               Cormac McCarthy        2006  Fiction, Post-Apocalyptic\n",
      "       14  The Girl with the Dragon Tattoo        Stieg Larsson          2005  Mystery, Thriller\n",
      "       15  The Alchemist                          Paulo Coelho           1988  Fiction, Inspirational\n"
     ]
    }
   ],
   "source": [
    "# write your code here ^_^\n",
    "from tabulate import tabulate\n",
    "\n",
    "def displey_books():\n",
    "    headers = [\"Book ID\", \"Title\", \"Author\", \"Year\", \"Genres\"]\n",
    "    table = []\n",
    "    for book in library:\n",
    "        table.append([book[\"Book_ID\"], book[\"Title\"], book[\"Author\"], book[\"Year\"],book['Genres']])\n",
    "    print(tabulate(table, headers))\n",
    "displey_books()\n"
   ]
  },
  {
   "cell_type": "markdown",
   "metadata": {
    "id": "OvfdKdBqNt22"
   },
   "source": [
    "#### Q5: Create functions to do the following: calculates and display the total number of books, the average publication year, and the most common genre. and test it."
   ]
  },
  {
   "cell_type": "code",
   "execution_count": 208,
   "metadata": {
    "id": "mWg5eHIWUcsU"
   },
   "outputs": [
    {
     "name": "stdout",
     "output_type": "stream",
     "text": [
      "total number of books: 14\n",
      "average publication year: 1960\n",
      "the most common genre is  Fiction, Classics  recurred  3 times\n"
     ]
    }
   ],
   "source": [
    "# write your code here ^_^\n",
    "from collections import Counter\n",
    "def calculate_books():\n",
    "    \n",
    "    total_books = len(library)\n",
    "    print(\"total number of books: \"+ str(total_books))\n",
    "    \n",
    "    totalyears= sum(book[\"Year\"] for book in library)\n",
    "    avg= int(totalyears/len(library))\n",
    "    print(\"average publication year: \"+ str(avg))\n",
    "\n",
    "    genres= [book[\"Genres\"] for book in library]\n",
    "    genre_counts= Counter(genres) \n",
    "    most_common= genre_counts.most_common(1)\n",
    "    print(\"the most common genre is \", most_common[0][0],\" recurred \",most_common[0][1], \"times\")\n",
    "       \n",
    "    \n",
    "\n",
    "\n",
    "calculate_books()  \n"
   ]
  },
  {
   "cell_type": "markdown",
   "metadata": {
    "id": "IuVLtf7dQaUW"
   },
   "source": [
    "#### Q6: Create 2 functions to search for books by the title and the author from your library and test it."
   ]
  },
  {
   "cell_type": "code",
   "execution_count": 232,
   "metadata": {
    "id": "7LnwRJLCUe3p"
   },
   "outputs": [
    {
     "name": "stdout",
     "output_type": "stream",
     "text": [
      "[{'Book_ID': 2, 'Title': 'Mockingbird', 'Author': 'Harper Lee', 'Year': 1960, 'Genres': 'Fiction, Classics'}]\n",
      "[{'Book_ID': 11, 'Title': 'Gone with the Wind', 'Author': 'Margaret Mitchell', 'Year': 1936, 'Genres': 'Historical Fiction, Romance'}]\n"
     ]
    }
   ],
   "source": [
    "# write your code here ^_^\n",
    "def search_by_title(title):\n",
    "    result= [book for book in library if title.lower() in book[\"Title\"].lower()]\n",
    "    return result\n",
    "\n",
    "def search_by_author(author):\n",
    "    result= [book for book in library if author.lower() in book[\"Author\"].lower()]\n",
    "    return result\n",
    "\n",
    "\n",
    "print(search_by_title(\"Mockingbird\"))\n",
    "\n",
    "print(search_by_author(\"Margaret Mitchell\"))\n",
    "\n",
    "\n",
    "\n",
    "    \n"
   ]
  },
  {
   "cell_type": "markdown",
   "metadata": {
    "id": "fAu2ozKBQzJu"
   },
   "source": [
    "#### Q7: Create 2 functions to sort the books by the title and the year from your library and test it."
   ]
  },
  {
   "cell_type": "code",
   "execution_count": 246,
   "metadata": {
    "id": "X4PyuHTMUgHl"
   },
   "outputs": [
    {
     "name": "stdout",
     "output_type": "stream",
     "text": [
      "[{'Book_ID': 4, 'Title': '1984', 'Author': 'George Orwell', 'Year': 1949, 'Genres': 'Fiction, Dystopian'}, {'Book_ID': 11, 'Title': 'Gone with the Wind', 'Author': 'Margaret Mitchell', 'Year': 1936, 'Genres': 'Historical Fiction, Romance'}, {'Book_ID': 2, 'Title': 'Mockingbird', 'Author': 'Harper Lee', 'Year': 1960, 'Genres': 'Fiction, Classics'}, {'Book_ID': 6, 'Title': 'Pride and Prejudice', 'Author': 'Jane Austen', 'Year': 1813, 'Genres': 'Fiction, Romance, Classics'}, {'Book_ID': 12, 'Title': 'Sapiens: A Brief History of Humankind', 'Author': 'Yuval Noah Harari', 'Year': 2011, 'Genres': 'Nonfiction, History,Science'}, {'Book_ID': 15, 'Title': 'The Alchemist', 'Author': 'Paulo Coelho', 'Year': 1988, 'Genres': 'Fiction, Inspirational'}, {'Book_ID': 5, 'Title': 'The Catcher in the Rye', 'Author': 'J.D. Salinger', 'Year': 1951, 'Genres': 'Fiction, Classics'}, {'Book_ID': 10, 'Title': 'The Chronicles of Narnia', 'Author': 'C.S. Lewis', 'Year': 1950, 'Genres': \"Fantasy, Children's Literature\"}, {'Book_ID': 9, 'Title': 'The Da Vinci Code', 'Author': 'Dan Brown', 'Year': 2003, 'Genres': 'Mystery, Thriller'}, {'Book_ID': 14, 'Title': 'The Girl with the Dragon Tattoo', 'Author': 'Stieg Larsson', 'Year': 2005, 'Genres': 'Mystery, Thriller'}, {'Book_ID': 3, 'Title': 'The Great Gatsby', 'Author': 'F. Scott Fitzgerald', 'Year': 1925, 'Genres': 'Fiction, Classics'}, {'Book_ID': 7, 'Title': 'The Hobbit', 'Author': 'J.R.R. Tolkien', 'Year': 1937, 'Genres': 'Fantasy, Adventure'}, {'Book_ID': 8, 'Title': 'The Hunger Games', 'Author': 'Suzanne Collins', 'Year': 2008, 'Genres': 'Science Fiction, Dystopian Young Adult'}, {'Book_ID': 13, 'Title': 'The Road', 'Author': 'Cormac McCarthy', 'Year': 2006, 'Genres': 'Fiction, Post-Apocalyptic'}]\n",
      "\n",
      "[{'Book_ID': 6, 'Title': 'Pride and Prejudice', 'Author': 'Jane Austen', 'Year': 1813, 'Genres': 'Fiction, Romance, Classics'}, {'Book_ID': 3, 'Title': 'The Great Gatsby', 'Author': 'F. Scott Fitzgerald', 'Year': 1925, 'Genres': 'Fiction, Classics'}, {'Book_ID': 11, 'Title': 'Gone with the Wind', 'Author': 'Margaret Mitchell', 'Year': 1936, 'Genres': 'Historical Fiction, Romance'}, {'Book_ID': 7, 'Title': 'The Hobbit', 'Author': 'J.R.R. Tolkien', 'Year': 1937, 'Genres': 'Fantasy, Adventure'}, {'Book_ID': 4, 'Title': '1984', 'Author': 'George Orwell', 'Year': 1949, 'Genres': 'Fiction, Dystopian'}, {'Book_ID': 10, 'Title': 'The Chronicles of Narnia', 'Author': 'C.S. Lewis', 'Year': 1950, 'Genres': \"Fantasy, Children's Literature\"}, {'Book_ID': 5, 'Title': 'The Catcher in the Rye', 'Author': 'J.D. Salinger', 'Year': 1951, 'Genres': 'Fiction, Classics'}, {'Book_ID': 2, 'Title': 'Mockingbird', 'Author': 'Harper Lee', 'Year': 1960, 'Genres': 'Fiction, Classics'}, {'Book_ID': 15, 'Title': 'The Alchemist', 'Author': 'Paulo Coelho', 'Year': 1988, 'Genres': 'Fiction, Inspirational'}, {'Book_ID': 9, 'Title': 'The Da Vinci Code', 'Author': 'Dan Brown', 'Year': 2003, 'Genres': 'Mystery, Thriller'}, {'Book_ID': 14, 'Title': 'The Girl with the Dragon Tattoo', 'Author': 'Stieg Larsson', 'Year': 2005, 'Genres': 'Mystery, Thriller'}, {'Book_ID': 13, 'Title': 'The Road', 'Author': 'Cormac McCarthy', 'Year': 2006, 'Genres': 'Fiction, Post-Apocalyptic'}, {'Book_ID': 8, 'Title': 'The Hunger Games', 'Author': 'Suzanne Collins', 'Year': 2008, 'Genres': 'Science Fiction, Dystopian Young Adult'}, {'Book_ID': 12, 'Title': 'Sapiens: A Brief History of Humankind', 'Author': 'Yuval Noah Harari', 'Year': 2011, 'Genres': 'Nonfiction, History,Science'}]\n"
     ]
    }
   ],
   "source": [
    "# write your code here ^_^\n",
    "def sort_books_title(library):\n",
    "    for book in library:\n",
    "        sorted_by_title= library.sort(key = lambda book: book[\"Title\"])\n",
    "        return sorted_by_title\n",
    "sort_books_title(library)\n",
    "\n",
    "def sort_books_year(library):\n",
    "    for book in library:\n",
    "        sorted_by_year= library.sort(key = lambda book: book[\"Year\"])\n",
    "        return sorted_by_year\n",
    "        \n",
    "sort_books_title(library)\n",
    "print(library)\n",
    "\n",
    "print(\"\")\n",
    "\n",
    "sort_books_year(library)\n",
    "print(library)\n",
    "        \n",
    "    "
   ]
  },
  {
   "cell_type": "markdown",
   "metadata": {
    "id": "KiaFO8rdiv4u"
   },
   "source": [
    "#### Q8: Create a function to bulk update genres of books using list comprehension. and test it."
   ]
  },
  {
   "cell_type": "code",
   "execution_count": 248,
   "metadata": {
    "id": "AbvXyE96UhVt"
   },
   "outputs": [
    {
     "name": "stdout",
     "output_type": "stream",
     "text": [
      "[{'Book_ID': 6, 'Title': 'Pride and Prejudice', 'Author': 'Jane Austen', 'Year': 1813, 'Genres': 'Horror'}, {'Book_ID': 3, 'Title': 'The Great Gatsby', 'Author': 'F. Scott Fitzgerald', 'Year': 1925, 'Genres': 'Horror'}, {'Book_ID': 11, 'Title': 'Gone with the Wind', 'Author': 'Margaret Mitchell', 'Year': 1936, 'Genres': 'Horror'}, {'Book_ID': 7, 'Title': 'The Hobbit', 'Author': 'J.R.R. Tolkien', 'Year': 1937, 'Genres': 'Horror'}, {'Book_ID': 4, 'Title': '1984', 'Author': 'George Orwell', 'Year': 1949, 'Genres': 'Horror'}, {'Book_ID': 10, 'Title': 'The Chronicles of Narnia', 'Author': 'C.S. Lewis', 'Year': 1950, 'Genres': 'Horror'}, {'Book_ID': 5, 'Title': 'The Catcher in the Rye', 'Author': 'J.D. Salinger', 'Year': 1951, 'Genres': 'Horror'}, {'Book_ID': 2, 'Title': 'Mockingbird', 'Author': 'Harper Lee', 'Year': 1960, 'Genres': 'Horror'}, {'Book_ID': 15, 'Title': 'The Alchemist', 'Author': 'Paulo Coelho', 'Year': 1988, 'Genres': 'Horror'}, {'Book_ID': 9, 'Title': 'The Da Vinci Code', 'Author': 'Dan Brown', 'Year': 2003, 'Genres': 'Horror'}, {'Book_ID': 14, 'Title': 'The Girl with the Dragon Tattoo', 'Author': 'Stieg Larsson', 'Year': 2005, 'Genres': 'Horror'}, {'Book_ID': 13, 'Title': 'The Road', 'Author': 'Cormac McCarthy', 'Year': 2006, 'Genres': 'Horror'}, {'Book_ID': 8, 'Title': 'The Hunger Games', 'Author': 'Suzanne Collins', 'Year': 2008, 'Genres': 'Horror'}, {'Book_ID': 12, 'Title': 'Sapiens: A Brief History of Humankind', 'Author': 'Yuval Noah Harari', 'Year': 2011, 'Genres': 'Horror'}]\n"
     ]
    }
   ],
   "source": [
    "# write your code here ^_^\n",
    "def bulk_update_genres(library, new_genre):\n",
    "    updated_genres=[{**book, \"Genres\": new_genre} for book in library]\n",
    "    return updated_genres\n",
    "\n",
    "updated_library= bulk_update_genres(library, \"Horror\")\n",
    "print(updated_library)\n",
    "    \n",
    "\n"
   ]
  },
  {
   "cell_type": "markdown",
   "metadata": {
    "id": "ZWkmOUNgi6V_"
   },
   "source": [
    "#### Q9: Implement a function to generate a report summarizing the library's statistics, including the total number of books, the number of books by each author, the number of books in each genre, and the oldest and newest books. and test it."
   ]
  },
  {
   "cell_type": "code",
   "execution_count": 258,
   "metadata": {
    "id": "Okjlb9pTUloe"
   },
   "outputs": [
    {
     "name": "stdout",
     "output_type": "stream",
     "text": [
      "{'total books: ': 14, 'books by author: ': Counter({'Jane Austen': 1, 'F. Scott Fitzgerald': 1, 'Margaret Mitchell': 1, 'J.R.R. Tolkien': 1, 'George Orwell': 1, 'C.S. Lewis': 1, 'J.D. Salinger': 1, 'Harper Lee': 1, 'Paulo Coelho': 1, 'Dan Brown': 1, 'Stieg Larsson': 1, 'Cormac McCarthy': 1, 'Suzanne Collins': 1, 'Yuval Noah Harari': 1}), 'books by genres:': Counter({'Fiction, Classics': 3, 'Mystery, Thriller': 2, 'Fiction, Romance, Classics': 1, 'Historical Fiction, Romance': 1, 'Fantasy, Adventure': 1, 'Fiction, Dystopian': 1, \"Fantasy, Children's Literature\": 1, 'Fiction, Inspirational': 1, 'Fiction, Post-Apocalyptic': 1, 'Science Fiction, Dystopian Young Adult': 1, 'Nonfiction, History,Science': 1}), 'oldest book': {'Book_ID': 6, 'Title': 'Pride and Prejudice', 'Author': 'Jane Austen', 'Year': 1813, 'Genres': 'Fiction, Romance, Classics'}, 'newest book': {'Book_ID': 12, 'Title': 'Sapiens: A Brief History of Humankind', 'Author': 'Yuval Noah Harari', 'Year': 2011, 'Genres': 'Nonfiction, History,Science'}}\n"
     ]
    }
   ],
   "source": [
    "# write your code here ^_^\n",
    "def library_report(library):\n",
    "    #total number of books \n",
    "    total_books= len(library)\n",
    "    #the number of books by each author\n",
    "    authors= [book[\"Author\"] for book in library]\n",
    "    books_by_authors= Counter(authors)\n",
    "\n",
    "    #the number of books in each genre \n",
    "    genres= [book[\"Genres\"] for book in library]\n",
    "    books_by_genres = Counter(genres)\n",
    "    \n",
    "    #and the oldest and newest books\n",
    "    oldest_book= min(library, key= lambda book: book[\"Year\"])\n",
    "    newest_book= max(library, key= lambda book: book[\"Year\"])\n",
    "    report= {\"total books: \":total_books,\n",
    "             \"books by author: \":books_by_authors,\n",
    "             \"books by genres:\": books_by_genres, \n",
    "             \"oldest book\":oldest_book,\n",
    "             \"newest book\":newest_book}\n",
    "    return report\n",
    "\n",
    "report=library_report(library)\n",
    "print(report)\n",
    "\n",
    "    "
   ]
  },
  {
   "cell_type": "code",
   "execution_count": null,
   "metadata": {},
   "outputs": [],
   "source": []
  }
 ],
 "metadata": {
  "colab": {
   "provenance": []
  },
  "kernelspec": {
   "display_name": "Python 3 (ipykernel)",
   "language": "python",
   "name": "python3"
  },
  "language_info": {
   "codemirror_mode": {
    "name": "ipython",
    "version": 3
   },
   "file_extension": ".py",
   "mimetype": "text/x-python",
   "name": "python",
   "nbconvert_exporter": "python",
   "pygments_lexer": "ipython3",
   "version": "3.12.4"
  }
 },
 "nbformat": 4,
 "nbformat_minor": 4
}

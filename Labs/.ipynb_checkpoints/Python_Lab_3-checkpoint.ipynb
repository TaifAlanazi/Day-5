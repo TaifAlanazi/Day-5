{
 "cells": [
  {
   "cell_type": "markdown",
   "metadata": {},
   "source": [
    "# Python_Lab_3\n"
   ]
  },
  {
   "cell_type": "markdown",
   "metadata": {},
   "source": [
    "### Task 1\n",
    "- Write a function named **'create_student_records'** that takes a list of tuples. Each tuple contains a student's name and their scores in three subjects. The function should return a list of dictionaries, where each dictionary represents a student with keys: name, subject1, subject2, subject3. Use list comprehension to create the list of dictionaries."
   ]
  },
  {
   "cell_type": "code",
   "execution_count": 1,
   "metadata": {},
   "outputs": [
    {
     "name": "stdout",
     "output_type": "stream",
     "text": [
      "[{'name': 'norah', 'subject1': 90, 'subject2': 95, 'subject3': 89}, {'name': 'Ahmad', 'subject1': 85, 'subject2': 97, 'subject3': 92}, {'name': 'Hanaa', 'subject1': 80, 'subject2': 75, 'subject3': 70}]\n"
     ]
    }
   ],
   "source": [
    "# write your code here ^_^\n",
    "def create_students_records(scores):\n",
    "\n",
    "              return [{'name': student[0] , 'subject1': student[1]  ,'subject2': student[2] ,'subject3': student[3]}  for student in scores]\n",
    "\n",
    "scores= [('norah',90,95,89), \n",
    "         ('Ahmad',85,97,92),\n",
    "         ('Hanaa',80,75,70)]\n",
    "\n",
    "students_scores = create_students_records(scores)\n",
    "\n",
    "print(students_scores)\n",
    "            \n",
    "            \n"
   ]
  },
  {
   "cell_type": "markdown",
   "metadata": {},
   "source": [
    "### Task 2\n",
    "- Write a function named **'filter_and_sort_students'** that takes the list of dictionaries from Question 1 and returns a sorted list of student names who have an average score of 80 or more across all subjects. Sort the names in alphabetical order."
   ]
  },
  {
   "cell_type": "code",
   "execution_count": 4,
   "metadata": {},
   "outputs": [
    {
     "name": "stdout",
     "output_type": "stream",
     "text": [
      "['Ahmad', 'norah']\n"
     ]
    }
   ],
   "source": [
    "# write your code here ^_^\n",
    "\n",
    "def filter_and_sort_students(students_scores):\n",
    "    \n",
    "   filtered_students= [student['name'] for student in students_scores if (student['subject1']+student['subject2']+student['subject3'])/3 >= 80]\n",
    "   filtered_students.sort()\n",
    "   return filtered_students\n",
    "\n",
    "avgScores_Good = filter_and_sort_students(students_scores)\n",
    "print(avgScores_Good)\n",
    "    "
   ]
  },
  {
   "cell_type": "markdown",
   "metadata": {},
   "source": [
    "### Task 3\n",
    "- Write a function named **'get_product_info'** that prompts the user to enter information about a product. The function should ask for the product name, product price, and product quantity. If the user enters an invalid input (e.g., a non-numeric value for the price or quantity), the function should handle the error and prompt the user to enter the value again. Return a dictionary containing the product information."
   ]
  },
  {
   "cell_type": "code",
   "execution_count": 83,
   "metadata": {},
   "outputs": [
    {
     "name": "stdout",
     "output_type": "stream",
     "text": [
      "enter product information you want add to your  \n"
     ]
    },
    {
     "name": "stdin",
     "output_type": "stream",
     "text": [
      "enter product name: cocacola\n",
      "enter product quantity: e\n"
     ]
    },
    {
     "name": "stdout",
     "output_type": "stream",
     "text": [
      "you entered a non-numeric value, try again!! \n"
     ]
    },
    {
     "name": "stdin",
     "output_type": "stream",
     "text": [
      "enter product quantity: 4\n",
      "enter product price: 4\n"
     ]
    },
    {
     "name": "stdout",
     "output_type": "stream",
     "text": [
      "the product information you want to add:  {'name': 'cocacola', 'quantity': 4, 'price': 4.0}\n"
     ]
    }
   ],
   "source": [
    "# write your code here ^_^\n",
    "def get_product_info():\n",
    "    \n",
    "    print(\"enter product information you want add to your  \")\n",
    "    product_name = input(\"enter product name:\")\n",
    "    \n",
    "    while True:\n",
    "        try:  \n",
    "            product_quantity = int(input(\"enter product quantity:\"))\n",
    "            product_price = float(input(\"enter product price:\"))\n",
    "            break\n",
    "            \n",
    "    \n",
    "        except ValueError:\n",
    "        \n",
    "            print(\"you entered a non-numeric value, try again!! \")    \n",
    "             \n",
    "            \n",
    "    product_information= {'name':product_name, \n",
    "                          'quantity': product_quantity,\n",
    "                          'price':product_price}\n",
    "\n",
    "    return product_information\n",
    "\n",
    "\n",
    "\n",
    "product_info= get_product_info()\n",
    "print(\"the product information you want to add: \", product_info)\n",
    "        \n"
   ]
  },
  {
   "cell_type": "markdown",
   "metadata": {},
   "source": [
    "### Task 4\n",
    "- Write a function named **'get_even_numbers'** that takes a list of integers and returns a list of even numbers using list comprehension."
   ]
  },
  {
   "cell_type": "code",
   "execution_count": 37,
   "metadata": {},
   "outputs": [
    {
     "name": "stdout",
     "output_type": "stream",
     "text": [
      "[2, 4, 6, 8]\n"
     ]
    }
   ],
   "source": [
    "# write your code here ^_^\n",
    "\n",
    "def get_even_numbers(numbers):\n",
    "    \n",
    "    return [i for i in numbers if i%2 == 0]\n",
    "number_list = get_even_numbers([1,2,3,4,5,6,7,8,9])\n",
    "print(number_list)\n",
    "    \n",
    "    "
   ]
  },
  {
   "cell_type": "markdown",
   "metadata": {},
   "source": [
    "### Task 5\n",
    "- Write a function named **'pair_elements'** that takes two lists of equal length as parameters and returns a list of tuples, where each tuple contains corresponding elements from the two lists. Use the zip function to achieve this."
   ]
  },
  {
   "cell_type": "markdown",
   "metadata": {},
   "source": []
  },
  {
   "cell_type": "code",
   "execution_count": 49,
   "metadata": {},
   "outputs": [
    {
     "name": "stdout",
     "output_type": "stream",
     "text": [
      "[(1, 4), (2, 5), (3, 6)]\n"
     ]
    }
   ],
   "source": [
    "# write your code here ^_^\n",
    "def pair_elements(lst1,lst2):\n",
    "    compined_lists= zip(lst1,lst2)\n",
    "\n",
    "    return [i  for i in compined_lists]\n",
    "    \n",
    "zipped_list= pair_elements([1,2,3],[4,5,6])\n",
    "print(zipped_list)\n",
    "\n",
    "    \n"
   ]
  },
  {
   "cell_type": "markdown",
   "metadata": {},
   "source": [
    "### Task 6\n",
    "- Write a function named **'square_dict_lambda'** that takes a list of integers and returns a dictionary where the keys are the integers and the values are their squares. Use a lambda function within a dictionary comprehension to achieve this."
   ]
  },
  {
   "cell_type": "code",
   "execution_count": 81,
   "metadata": {},
   "outputs": [
    {
     "name": "stdout",
     "output_type": "stream",
     "text": [
      "{2: 4, 3: 9, 4: 16, 5: 25, 6: 36}\n"
     ]
    }
   ],
   "source": [
    "# write your code here ^_^\n",
    "def square_dict_lambda(nums):\n",
    "\n",
    "    return {num:(lambda x: x**2)(num) for num in nums}\n",
    "\n",
    "numbers_squared= square_dict_lambda([2,3,4,5,6])\n",
    "print (numbers_squared)\n",
    "    \n"
   ]
  },
  {
   "cell_type": "code",
   "execution_count": null,
   "metadata": {},
   "outputs": [],
   "source": []
  }
 ],
 "metadata": {
  "kernelspec": {
   "display_name": "Python 3 (ipykernel)",
   "language": "python",
   "name": "python3"
  },
  "language_info": {
   "codemirror_mode": {
    "name": "ipython",
    "version": 3
   },
   "file_extension": ".py",
   "mimetype": "text/x-python",
   "name": "python",
   "nbconvert_exporter": "python",
   "pygments_lexer": "ipython3",
   "version": "3.12.4"
  }
 },
 "nbformat": 4,
 "nbformat_minor": 4
}
